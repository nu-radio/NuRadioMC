{
 "cells": [
  {
   "cell_type": "markdown",
   "id": "prompt-worker",
   "metadata": {},
   "source": [
    "Running a simulation\n",
    "====================\n",
    "\n",
    "We will have a look at some of the examples included in `NuRadioMC`. These can be found inside the NuRadioMC installation folder:"
   ]
  },
  {
   "cell_type": "code",
   "execution_count": null,
   "id": "ordinary-mathematics",
   "metadata": {},
   "outputs": [],
   "source": [
    "import NuRadioMC\n",
    "import NuRadioReco\n",
    "import os\n",
    "\n",
    "nuradiomc_path = NuRadioMC.__path__[0]\n",
    "print(f\"NuRadioMC is installed at:              {nuradiomc_path}\")\n",
    "print(f\"NuRadioMC examples can be found here:   {os.path.join(nuradiomc_path, 'examples')}\")\n",
    "print(f\"NuRadioReco examples can be found here: {os.path.join(NuRadioReco.__path__[0], 'examples')}\")"
   ]
  },
  {
   "cell_type": "markdown",
   "id": "anticipated-telescope",
   "metadata": {},
   "source": [
    "1\\. Generating neutrinos\n",
    "----------------------------------\n",
    "The first step is to generate the incoming neutrinos. We do this using the [`generate_eventlist_cylinder`](https://nu-radio.github.io/NuRadioMC/NuRadioMC/apidoc/NuRadioMC.EvtGen.generator.html#NuRadioMC.EvtGen.generator.generate_eventlist_cylinder) function:"
   ]
  },
  {
   "cell_type": "code",
   "execution_count": null,
   "id": "negative-motel",
   "metadata": {},
   "outputs": [],
   "source": [
    "from NuRadioMC.EvtGen.generator import generate_eventlist_cylinder\n",
    "from NuRadioReco.utilities import units # the default unit system in NuRadioMC"
   ]
  },
  {
   "cell_type": "code",
   "execution_count": null,
   "id": "existing-toddler",
   "metadata": {},
   "outputs": [],
   "source": [
    "# define simulation volume: a cylinder\n",
    "# with a depth of 3 km and a radius of 4 km\n",
    "volume = {\n",
    "'fiducial_zmin':-3 * units.km,\n",
    "'fiducial_zmax': 0 * units.km,\n",
    "'fiducial_rmin': 0 * units.km,\n",
    "'fiducial_rmax': 4 * units.km}\n",
    "\n",
    "# Now we generate 1000 events with an energy of 1e19 eV\n",
    "generate_eventlist_cylinder(\n",
    "    filename='1e19_n1e3.hdf5',\n",
    "    n_events=1e3,\n",
    "    Emin=1e19 * units.eV,\n",
    "    Emax=1e19 * units.eV,\n",
    "    volume=volume\n",
    ")"
   ]
  },
  {
   "cell_type": "markdown",
   "id": "spectacular-wound",
   "metadata": {},
   "source": [
    "This produces an hdf5 file `1e19_n1e3.hdf5` with 1000 randomly generated events produced by neutrinos with an energy of $10^{19}$ eV.\n",
    "You can also use a different energy spectrum, change\n",
    "the neutrino flavour composition, interaction types, \n",
    "and many other things - see the [documentation](https://nu-radio.github.io/NuRadioMC/NuRadioMC/pages/Manuals/event_generation.html).\n"
   ]
  },
  {
   "cell_type": "markdown",
   "id": "major-arctic",
   "metadata": {},
   "source": [
    "2\\. Detector simulation\n",
    "-----------------------\n",
    "For most tasks in both simulation and analysis, we use the modules provided by `NuRadioReco`.\n",
    "\n",
    "Here, we will need the [`RNO_G.hardwareResponseIncorporator`](https://nu-radio.github.io/NuRadioMC/NuRadioReco/apidoc/NuRadioReco.modules.RNO_G.hardwareResponseIncorporator.html)\n",
    "module to simulate the detector response, and the [`trigger.highLowThreshold`](https://nu-radio.github.io/NuRadioMC/NuRadioReco/apidoc/NuRadioReco.modules.trigger.highLowThreshold.html#NuRadioReco.modules.trigger.highLowThreshold.triggerSimulator) module to simulate the 'trigger'."
   ]
  },
  {
   "cell_type": "code",
   "execution_count": null,
   "id": "adverse-worth",
   "metadata": {},
   "outputs": [],
   "source": [
    "from NuRadioMC.simulation import simulation\n",
    "import NuRadioReco.modules.RNO_G.hardwareResponseIncorporator\n",
    "import NuRadioReco.modules.trigger.highLowThreshold\n",
    "\n",
    "hardware_response = NuRadioReco.modules.RNO_G.hardwareResponseIncorporator.hardwareResponseIncorporator()\n",
    "highLowThreshold = NuRadioReco.modules.trigger.highLowThreshold.triggerSimulator()\n",
    "\n",
    "# Some classes are initialized by running `.begin()`.\n",
    "# In this case, we do not change any parameters, so doing this is optional.\n",
    "hardware_response.begin()\n",
    "highLowThreshold.begin()"
   ]
  },
  {
   "cell_type": "markdown",
   "id": "existing-chaos",
   "metadata": {},
   "source": [
    "The simulation is defined in the `simulation` module by the [`simulation`](https://nu-radio.github.io/NuRadioMC/NuRadioMC/apidoc/NuRadioMC.simulation.simulation.html#NuRadioMC.simulation.simulation.simulation) class.\n",
    "To run our own simulation, we create a simulation class `mySimulation` that inherits from this class.\n",
    "This allows us to customize as much or as little of the simulation process as we like.\n",
    "At minimum, however, we should specify the **amplifier response** and the **triggers**.\n",
    "We do this by defining the `_detector_simulation_filter_amp` and `_detector_simulation_trigger` methods.\n",
    "\n",
    "In this case, we use the hardware response for RNO-G hardware, and a simple high-low trigger with a threshold of 50 mV (this corresponds to approximately 3 times the RMS noise voltage for the simulated hardware).\n",
    "To reduce the probability of triggering on pure noise, we use a coincidence condition of 3/4 channels in the phased array (channels 0,1,2 and 3)."
   ]
  },
  {
   "cell_type": "code",
   "execution_count": null,
   "id": "czech-saudi",
   "metadata": {},
   "outputs": [],
   "source": [
    "class mySimulation(simulation.simulation):\n",
    "\n",
    "    def _detector_simulation_filter_amp(self, evt, station, det): # simulate the detector response\n",
    "        hardware_response.run(evt, station, det, sim_to_data=True)\n",
    "\n",
    "    def _detector_simulation_trigger(self, evt, station, det): # run the trigger simulation\n",
    "        highLowThreshold.run(\n",
    "            evt,\n",
    "            station,\n",
    "            det,\n",
    "            threshold_high=50. * units.mV,\n",
    "            threshold_low=-50. * units.mV,\n",
    "            triggered_channels=[0,1,2,3], # run the trigger on channels 0,1,2,3\n",
    "            coinc_window=30*units.ns,\n",
    "            number_concidences=3, # require 3 of the channels to satisfy the trigger condition within 30 ns\n",
    "            trigger_name='main_trigger',\n",
    "        )\n",
    "\n",
    "        # you can add additional triggers below, or implement conditional logic to run additional triggers only if the first trigger has fired...\n"
   ]
  },
  {
   "cell_type": "markdown",
   "id": "alleged-burton",
   "metadata": {},
   "source": [
    "Now we run the simulation! We need to specify the input neutrino file, the detector description, the configuration file, and the output filename(s).\n",
    "An overview of all the settings that can be specified in the config file, as well as their default values, can be seen in [NuRadioMC/simulation/config_default.yaml](../../simulation/config_default.yaml)."
   ]
  },
  {
   "cell_type": "code",
   "execution_count": null,
   "id": "african-reproduction",
   "metadata": {},
   "outputs": [],
   "source": [
    "sim = mySimulation(\n",
    "    inputfilename=\"1e19_n1e3.hdf5\",\n",
    "    outputfilename=\"1e19_n1e3_output.hdf5\",\n",
    "    detectorfile=\"RNO_G/RNO_single_station.json\",\n",
    "    outputfilenameNuRadioReco=\"1e19_n1e3_output.nur\",\n",
    "    config_file='config.yaml',\n",
    "    file_overwrite=True,\n",
    "    write_detector=False,\n",
    "    trigger_channels=[0,1,2,3] # specifying all channels used by any of the triggers is optional, but speeds up the simulation process significantly\n",
    ")\n",
    "\n",
    "sim.run()"
   ]
  },
  {
   "cell_type": "markdown",
   "id": "cooperative-finland",
   "metadata": {},
   "source": [
    "That's it! You now have the output `.hdf5` and `.nur` files - we will see in [the next notebook](W02-reading-nur-files.ipynb) how to read this output.\n",
    "\n",
    "This example is adapted from `NuRadioMC/examples/01_Veff_simulation` and `NuRadioMC/examples/07_RNO_G_simulation`.\n",
    "To actually run larger simulations, for example on a cluster, it is generally easier to work with `.py` python scripts as found in those examples, rather than an interactive notebook.\n",
    "You can have a look at these files, as well as `NuRadioMC/examples/06_webinar` (in which the scripts are very extensively explained).\n",
    "There is also more information in the [documentation](https://nu-radio.github.io/NuRadioMC/NuRadioMC/pages/manuals.html)."
   ]
  },
  {
   "cell_type": "code",
   "execution_count": null,
   "id": "leading-fiction",
   "metadata": {},
   "outputs": [],
   "source": []
  }
 ],
 "metadata": {
  "kernelspec": {
   "display_name": "nu-radio",
   "language": "python",
   "name": "python3"
  },
  "language_info": {
   "codemirror_mode": {
    "name": "ipython",
    "version": 3
   },
   "file_extension": ".py",
   "mimetype": "text/x-python",
   "name": "python",
   "nbconvert_exporter": "python",
   "pygments_lexer": "ipython3",
   "version": "3.10.12"
  }
 },
 "nbformat": 4,
 "nbformat_minor": 5
}
