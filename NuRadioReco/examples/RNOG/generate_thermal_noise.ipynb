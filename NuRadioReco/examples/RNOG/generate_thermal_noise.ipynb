{
 "cells": [
  {
   "cell_type": "markdown",
   "id": "ba9aac8b-2ef1-43d3-b33b-9826c782620d",
   "metadata": {},
   "source": [
    "# Example to add thermal noise to simulations\n",
    "This notebook provides an example of how to add thermal noise as different components.\\\n",
    "The identified components are:\n",
    "* Ice\n",
    "* Galaxy\n",
    "* Electronics\n",
    "  \n",
    "Each of these components uses a different module from NuRadio"
   ]
  },
  {
   "cell_type": "code",
   "execution_count": 54,
   "id": "3842af8e-744a-4557-9040-28d747bcc1d7",
   "metadata": {},
   "outputs": [],
   "source": [
    "import datetime\n",
    "import logging\n",
    "import matplotlib.pyplot as plt\n",
    "import numpy as np\n",
    "import os\n",
    "\n",
    "import NuRadioReco\n",
    "from NuRadioReco.detector.RNO_G.rnog_detector import Detector\n",
    "from NuRadioReco.framework.event import Event\n",
    "from NuRadioReco.framework.station import Station\n",
    "from NuRadioReco.framework.channel import Channel\n",
    "from NuRadioReco.utilities import units"
   ]
  },
  {
   "cell_type": "markdown",
   "id": "04676f17-8e16-4579-b5bd-00dba9fa06c4",
   "metadata": {},
   "source": [
    "We start by generating a set of events with the same structure as simulated events. We do this to use the module.run() convention from NuRadio"
   ]
  },
  {
   "cell_type": "code",
   "execution_count": 46,
   "id": "e685d55b-2228-495b-bb01-37b5f45c3a34",
   "metadata": {},
   "outputs": [],
   "source": [
    "sampling_rate = 3.2 * units.GHz\n",
    "nr_samples = 2048\n",
    "frequencies = np.fft.rfftfreq(nr_samples, d=1./sampling_rate)\n",
    "\n",
    "def generate_event():\n",
    "    event = Event(run_number=-1, event_id=-1)\n",
    "    station = Station(0)\n",
    "    station.set_station_time(\"2023-08-01\", format=\"isot\")\n",
    "    channel_ids = [0]\n",
    "    for channel_id in channel_ids:\n",
    "        channel = Channel(channel_id)\n",
    "        channel.set_frequency_spectrum(np.zeros_like(frequencies, dtype=np.complex128), sampling_rate)\n",
    "        station.add_channel(channel)\n",
    "    event.set_station(station)\n",
    "    return event\n",
    "\n",
    "nr_events = 20\n",
    "events = [generate_event() for e in range(nr_events)]"
   ]
  },
  {
   "cell_type": "markdown",
   "id": "979809e6-3b8d-4dd1-9c85-b71c582b0de2",
   "metadata": {},
   "source": [
    "## Ice noise"
   ]
  },
  {
   "cell_type": "markdown",
   "id": "da0c7190-873b-482b-a8c7-24ee5f053c4c",
   "metadata": {},
   "source": []
  },
  {
   "cell_type": "code",
   "execution_count": 47,
   "id": "279fbe02-77c8-46e9-a83d-c5bd85decc09",
   "metadata": {},
   "outputs": [],
   "source": [
    "eff_temp_dir = os.path.join(os.path.dirname(NuRadioReco.__file__), \"examples\", \"RNOG\", \"eff_temperatures\")"
   ]
  },
  {
   "cell_type": "code",
   "execution_count": null,
   "id": "76a5a3ee-b905-4918-8fce-2463bd41cdd9",
   "metadata": {},
   "outputs": [],
   "source": [
    "from NuRadioReco.modules.channelThermalNoiseAdder import channelThermalNoiseAdder\n",
    "\n",
    "detector = Detector(database_connection=\"RNOG_public\", log_level=logging.NOTSET,\n",
    "                   select_stations=11)\n",
    "detector_time = datetime.datetime(2023, 8, 1)\n",
    "detector.update(detector_time)\n",
    "\n",
    "ice_noise = channelThermalNoiseAdder()\n",
    "ice_noise.begin(sim_library_dir=eff_temp_dir)\n",
    "for event in events:\n",
    "    station = event.get_station()\n",
    "    ice_noise.run(event, station, detector=0)"
   ]
  },
  {
   "cell_type": "markdown",
   "id": "d850696a-df6a-478b-a221-f6d60dc557f4",
   "metadata": {},
   "source": [
    "## Electronic noise"
   ]
  },
  {
   "cell_type": "markdown",
   "id": "58c39979-2523-428d-bd8e-2f29ea73c5bd",
   "metadata": {},
   "source": [
    "In principle the electronic noise should be frequency dependent and is ideally derived from a noise temperature measurement. Since these are not available the electronic noise is approximated as flat with a certain noise temperature. From old measurements (see noise measurements in https://arxiv.org/abs/2411.12922 Figure 8) we approximate this temperature as 80 K.\n",
    "\n",
    "In the context of the RNO-G system absolute amplitude calibration, an extra free parameter is added to the electronic noise profile to account for this uncertainty. This free parameter module is not included in this example."
   ]
  },
  {
   "cell_type": "code",
   "execution_count": null,
   "id": "643912af-9166-4db7-92e3-6cba35c521a2",
   "metadata": {},
   "outputs": [],
   "source": []
  },
  {
   "cell_type": "markdown",
   "id": "98c39cc3-8b47-493a-afdd-a8efdae998bf",
   "metadata": {},
   "source": [
    "## Galactic noise"
   ]
  },
  {
   "cell_type": "markdown",
   "id": "9292ce96-6ac1-4df4-9ba5-78014852e165",
   "metadata": {},
   "source": []
  },
  {
   "cell_type": "code",
   "execution_count": null,
   "id": "ea166364-a9e5-4570-9448-c2226a858ac5",
   "metadata": {},
   "outputs": [],
   "source": []
  }
 ],
 "metadata": {
  "kernelspec": {
   "display_name": "Python 3 (ipykernel)",
   "language": "python",
   "name": "python3"
  },
  "language_info": {
   "codemirror_mode": {
    "name": "ipython",
    "version": 3
   },
   "file_extension": ".py",
   "mimetype": "text/x-python",
   "name": "python",
   "nbconvert_exporter": "python",
   "pygments_lexer": "ipython3",
   "version": "3.10.12"
  }
 },
 "nbformat": 4,
 "nbformat_minor": 5
}
