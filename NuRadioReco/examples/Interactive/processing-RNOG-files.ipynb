{
 "cells": [
  {
   "cell_type": "markdown",
   "metadata": {},
   "source": [
    "# Processing RNO-G data"
   ]
  },
  {
   "cell_type": "markdown",
   "metadata": {},
   "source": [
    "This notebook will show how to read and process RNO-G data"
   ]
  },
  {
   "cell_type": "markdown",
   "metadata": {},
   "source": [
    "We will follow the accepted workflow and make use of the readRNOGData class to read in and loop over the RNOG data. This class uses mattak datasets in the backend, hence mattak is a prerequisite for making use of this class.\\\n",
    "You can install mattak in your venv via pip using \" pip install git+https://github.com/RNO-G/mattak.git \""
   ]
  },
  {
   "cell_type": "code",
   "execution_count": null,
   "metadata": {},
   "outputs": [],
   "source": [
    "import logging\n",
    "import matplotlib.pyplot as plt\n",
    "import numpy as np\n",
    "import os\n",
    "\n",
    "from NuRadioReco.modules.io.RNO_G.readRNOGDataMattak import readRNOGData\n",
    "from NuRadioReco.utilities import units"
   ]
  },
  {
   "cell_type": "markdown",
   "metadata": {},
   "source": [
    "The reader makes use of the rnog-runtable (https://github.com/RNO-G/rnog-runtable) to filter runs. If not already installed the reader will give you a convenient warning with the instructions to install the runtable using  a pip install."
   ]
  },
  {
   "cell_type": "code",
   "execution_count": null,
   "metadata": {},
   "outputs": [],
   "source": [
    "rnog_reader = readRNOGData()"
   ]
  },
  {
   "cell_type": "markdown",
   "metadata": {},
   "source": [
    "To start reading in data the reader has a begin function that expects a list (or single instance) of run directories (e.g. /path/to/data/station11/run1016) or a list of root directories (e.g. /path/to/data/station11/run1016/combined.root) if a combined.root object is available.The recomendation is to alway pass run directories. We assume the root rnog data directory is stored in the \"RNO_G_DATA\" environmental variable on your machine"
   ]
  },
  {
   "cell_type": "code",
   "execution_count": null,
   "metadata": {},
   "outputs": [],
   "source": [
    "run_directory = os.environ[\"RNO_G_DATA\"] + \"/\" + \"station11\" + \"/\" + \"run1016\""
   ]
  },
  {
   "cell_type": "markdown",
   "metadata": {},
   "source": [
    "#### Filter run options\n",
    "The reader also allows you to set constraints on what data you want to read. You can set what run_types to select (\"physics\", \"debug\", \"calibration\", \"broken\") or set a limit on the maximum trigger rates."
   ]
  },
  {
   "cell_type": "code",
   "execution_count": null,
   "metadata": {},
   "outputs": [],
   "source": [
    "run_types = [\"physics\"]\n",
    "max_trigger_rate = 2 * units.Hz"
   ]
  },
  {
   "cell_type": "markdown",
   "metadata": {},
   "source": [
    "If you want to set further constraints that do not appear as an option in the begin function you can pass a list of functions as selectors. These functions should accept the event_info and return a boolean based on what you want to constrain. The attributes of eventinfo are include below:\n",
    "<ul>\n",
    "<li> eventNumber: int </li> \n",
    "<li> station : int  </li>\n",
    "<li> run: int  </li>\n",
    "<li> readoutTime : float  </li>\n",
    "<li> triggerTime : float  </li>\n",
    "<li> triggerType: str  </li>\n",
    "<li> sysclk: int  </li>\n",
    "<li> sysclkLastPPS: Tuple[int, int]  # the last 2 PPS sysclks, most recent first  </li>\n",
    "<li> pps: int  </li>\n",
    "<li> radiantStartWindows: numpy.ndarray  </li>\n",
    "<li> sampleRate: Optional[float]  # Sample rate, in GSa/s  </li>\n",
    "<li> radiantThrs: Optional[numpy.ndarray]  </li>\n",
    "<li> lowTrigThrs: Optional[numpy.ndarray]  </li>\n",
    "<li> hasWaveforms: bool = True  </li>\n",
    "<li> readoutDelay: Optional[numpy.ndarray] = None  # Default value is 0 (set in the backends)  </li>\n",
    "</ul>\n",
    "\n",
    "As an example we will only select forced triggers"
   ]
  },
  {
   "cell_type": "code",
   "execution_count": null,
   "metadata": {},
   "outputs": [],
   "source": [
    "selectors = [lambda event_info : event_info.triggerType == \"FORCE\"]"
   ]
  },
  {
   "cell_type": "markdown",
   "metadata": {},
   "source": [
    "#### Mattak backend options\n",
    "The final option we will discuss are the options you can pass to the mattak backend of the reader. The most important of which is what backend to use for reading the .ROOT files. \"uproot\" is a purely pythonic backend hence this backend acts slower but does not require a working ROOT installation. \"pyroot\" is a faster C++ backend and requires a working ROOT installation. The mattak pip install only installs pyroot if a working ROOT installation is detected on your system. For simplicity we will assume ROOT was not installed."
   ]
  },
  {
   "cell_type": "code",
   "execution_count": null,
   "metadata": {},
   "outputs": [],
   "source": [
    "mattak_kwargs = {\n",
    "    \"backend\" : \"uproot\",\n",
    "    # \"backend\" : \"pyroot\"\n",
    "    }"
   ]
  },
  {
   "cell_type": "markdown",
   "metadata": {},
   "source": [
    "Note that we choose all these options already knowing that run1016 satisfies these conditions"
   ]
  },
  {
   "cell_type": "code",
   "execution_count": null,
   "metadata": {},
   "outputs": [],
   "source": [
    "rnog_reader.begin(run_directory,\n",
    "                  run_types=run_types,\n",
    "                  selectors=selectors,\n",
    "                  max_trigger_rate=max_trigger_rate,\n",
    "                  mattak_kwargs=mattak_kwargs)"
   ]
  },
  {
   "cell_type": "markdown",
   "metadata": {},
   "source": [
    "The reader contains a \"run\" function to loop over the events included in the passed run directories."
   ]
  },
  {
   "cell_type": "code",
   "execution_count": null,
   "metadata": {},
   "outputs": [],
   "source": [
    "for event in rnog_reader.run():\n",
    "    event_id = event.get_id()\n",
    "    print(f\"Showing even id {event_id}\")\n",
    "    station = event.get_station()\n",
    "    print(\"Event contains channels: \", end = '')\n",
    "    for channel in station.iter_channels():\n",
    "        print(channel.get_id(), end=' ')\n",
    "    break"
   ]
  },
  {
   "cell_type": "markdown",
   "metadata": {},
   "source": [
    "For example, we can plot the trace of channel 0 in the first event"
   ]
  },
  {
   "cell_type": "code",
   "execution_count": null,
   "metadata": {},
   "outputs": [],
   "source": [
    "channel_id = 0\n",
    "\n",
    "for event in rnog_reader.run():\n",
    "    event_id = event.get_id()\n",
    "    station = event.get_station()\n",
    "    channel = station.get_channel(channel_id)\n",
    "    times = channel.get_times()\n",
    "    trace = channel.get_trace()\n",
    "    plt.plot(times, trace)\n",
    "    plt.xlabel(\"time / ns\")\n",
    "    plt.ylabel(\"Amplitude / V\")\n",
    "    plt.title(f\"Trace of channel {channel_id}, event {event_id}\")\n",
    "    break"
   ]
  },
  {
   "cell_type": "markdown",
   "metadata": {},
   "source": [
    "### The RNO-G detector object"
   ]
  },
  {
   "cell_type": "markdown",
   "metadata": {},
   "source": [
    "Before continuing we should first explain the RNO-G \"Detector\" class. This class contains all the information pertaining to the RNO-G detector such as cable delays and system responses. We need to define this object here before continuing since some NuRadio functionalities require a detector object in what follows.\\\n",
    "The detector gathers all it's information either from a json file (outdated) or by querying the information from a mongodb database. To ensure the detector uses this database we specify the information source using the \"source\" argument."
   ]
  },
  {
   "cell_type": "code",
   "execution_count": null,
   "metadata": {},
   "outputs": [],
   "source": [
    "from NuRadioReco.detector.detector import Detector\n",
    "det = Detector(source=\"rnog_mongo\")"
   ]
  },
  {
   "cell_type": "markdown",
   "metadata": {},
   "source": [
    "The detector class is quite versatile in that it is able to query the detector information at any given date. To choose a date we can use the \"update\" function. this function accepts either an astropy Time object or a datetime object."
   ]
  },
  {
   "cell_type": "code",
   "execution_count": null,
   "metadata": {},
   "outputs": [],
   "source": [
    "from astropy.time import Time\n",
    "det.update(Time(\"2022-08-01\"))"
   ]
  },
  {
   "cell_type": "markdown",
   "metadata": {},
   "source": [
    "### NuRadio modules"
   ]
  },
  {
   "cell_type": "markdown",
   "metadata": {},
   "source": [
    "NuRadio contains many modules which can be used to apply functions / filters or other changes to the events in the reader. All of these modules are coded to the same structure as the reader. Hence they have a begin function for their overhanging settings and a run function to be applied to an event. To illustrate this we will apply an <b>essential</b> module in NuRadio, titled channelAddCableDelay to remove the cable delays in the data.\n",
    "\n",
    "For more info see : https://nu-radio.github.io/NuRadioMC/NuRadioReco/pages/nur_modules.html"
   ]
  },
  {
   "cell_type": "code",
   "execution_count": null,
   "metadata": {},
   "outputs": [],
   "source": [
    "from NuRadioReco.modules.channelAddCableDelay import channelAddCableDelay\n",
    "channelCableDelayAdder = channelAddCableDelay()\n",
    "channelCableDelayAdder.begin()"
   ]
  },
  {
   "cell_type": "markdown",
   "metadata": {},
   "source": [
    "All NuRadio modules are designed to execute their run function in a reader's run function. They all accept their arguments as (event, station, detector, module_specific_options). Not all modules make use of all three of these but they are still accepted to equalize all run functions. Make sure to check the NuRadio docs/source code to know which arguments matter. We will now apply the cable delay removal to our workflow."
   ]
  },
  {
   "cell_type": "code",
   "execution_count": null,
   "metadata": {},
   "outputs": [],
   "source": [
    "channel_id = 0\n",
    "\n",
    "for event in rnog_reader.run():\n",
    "    event_id = event.get_id()\n",
    "    station = event.get_station()\n",
    "\n",
    "    det.update(station.get_station_time())\n",
    "    channelCableDelayAdder.run(event, station, det, mode=\"subtract\")\n",
    "\n",
    "    channel = station.get_channel(channel_id)\n",
    "    times = channel.get_times()\n",
    "    trace = channel.get_trace()\n",
    "    plt.plot(times, trace)\n",
    "    plt.xlabel(\"time / ns\")\n",
    "    plt.ylabel(\"Amplitude / V\")\n",
    "    plt.title(f\"Trace of channel {channel_id}, event {event_id}\")\n",
    "    break"
   ]
  },
  {
   "cell_type": "markdown",
   "metadata": {},
   "source": [
    "Not here that we can apply the detector update function as many times as we want. The detector will not reload it's information if the given data contains the same info as the previously set date. \\\n",
    "<b> It is hence good practice to always call \"det.update(station.get_station_time())\" in the reader run loop </b>"
   ]
  },
  {
   "cell_type": "markdown",
   "metadata": {},
   "source": [
    "As a final example we will demonstrate how to apply a bandpassfilter on given data."
   ]
  },
  {
   "cell_type": "code",
   "execution_count": null,
   "metadata": {},
   "outputs": [],
   "source": [
    "from NuRadioReco.modules.channelBandPassFilter import channelBandPassFilter\n",
    "\n",
    "channelFilterBand = channelBandPassFilter()\n",
    "channelFilterBand.begin()"
   ]
  },
  {
   "cell_type": "code",
   "execution_count": null,
   "metadata": {},
   "outputs": [],
   "source": [
    "channel_id = 0\n",
    "passband = [200 * units.MHz, 600 * units.MHz]\n",
    "\n",
    "for event in rnog_reader.run():\n",
    "    event_id = event.get_id()\n",
    "    station = event.get_station()\n",
    "\n",
    "    channel = station.get_channel(channel_id)\n",
    "    frequencies = channel.get_frequencies()\n",
    "    frequency_spectrum_before_modules = channel.get_frequency_spectrum()\n",
    "\n",
    "    det.update(station.get_station_time())\n",
    "    channelCableDelayAdder.run(event, station, det, mode=\"subtract\")\n",
    "    channelFilterBand.run(event, station, det, passband, filter_type=\"rectangular\")\n",
    "\n",
    "    channel = station.get_channel(channel_id)\n",
    "    frequency_spectrum_after_modules = channel.get_frequency_spectrum()\n",
    "    plt.plot(frequencies, np.abs(frequency_spectrum_before_modules), label = \"before modules\")\n",
    "    plt.plot(frequencies, np.abs(frequency_spectrum_after_modules), label = \"after modules\")\n",
    "    plt.xlabel(\"frequencies / GHz\")\n",
    "    plt.ylabel(\"Spectral amplitude / V/GHz\")\n",
    "    plt.legend()\n",
    "    plt.title(f\"Trace of channel {channel_id}, event {event_id}\")\n",
    "    break"
   ]
  },
  {
   "cell_type": "markdown",
   "metadata": {},
   "source": [
    "### Conclusion"
   ]
  },
  {
   "cell_type": "markdown",
   "metadata": {},
   "source": [
    "Now you can loop over RNO-G events using the readRNOGData class. You learned how to apply NuRadio's modules in the reader loop and how to extract data from events in the form of traces and frequency spectra. To start an analyses, load in the appropriate data files, set your selectors and apply your chosen modules in the reader run function."
   ]
  }
 ],
 "metadata": {
  "kernelspec": {
   "display_name": "mattak_env",
   "language": "python",
   "name": "python3"
  },
  "language_info": {
   "codemirror_mode": {
    "name": "ipython",
    "version": 3
   },
   "file_extension": ".py",
   "mimetype": "text/x-python",
   "name": "python",
   "nbconvert_exporter": "python",
   "pygments_lexer": "ipython3",
   "version": "3.10.12"
  }
 },
 "nbformat": 4,
 "nbformat_minor": 2
}
